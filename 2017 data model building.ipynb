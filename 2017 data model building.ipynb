{
 "cells": [
  {
   "cell_type": "markdown",
   "id": "756596f2",
   "metadata": {},
   "source": [
    "# Model Building SET 1 3 jan 2017"
   ]
  },
  {
   "cell_type": "markdown",
   "id": "597b914a",
   "metadata": {},
   "source": [
    "# Levenberg-Marquardt algorithm"
   ]
  },
  {
   "cell_type": "code",
   "execution_count": 3,
   "id": "593e89ba",
   "metadata": {},
   "outputs": [],
   "source": [
    "import numpy as np\n",
    "import pandas as pd\n",
    "from scipy.optimize import least_squares\n",
    "from sklearn.metrics import mean_squared_error, r2_score, mean_absolute_percentage_error"
   ]
  },
  {
   "cell_type": "code",
   "execution_count": 4,
   "id": "7677ea05",
   "metadata": {},
   "outputs": [
    {
     "data": {
      "text/plain": [
       "['.ipynb_checkpoints',\n",
       " '2017 data model building.ipynb',\n",
       " '2017earthquake.xlsx',\n",
       " 'Final data2.xlsx',\n",
       " 'model building for 2017 data.ipynb',\n",
       " 'pygmo2',\n",
       " 'Radon data - four models.ipynb',\n",
       " 'Radon data.xlsx',\n",
       " 'Radon.xlsx',\n",
       " 'rrrrr.html',\n",
       " 'SET 1 data.xlsx',\n",
       " 'set1-model building.ipynb',\n",
       " 'set1.xlsx',\n",
       " 'set2 model building.ipynb',\n",
       " 'set2.xlsx',\n",
       " 'set3 model building.ipynb',\n",
       " 'set3.xlsx',\n",
       " 'set4-model building.ipynb',\n",
       " 'set4.xlsx',\n",
       " 'untitled0.py',\n",
       " '~$Radon.xlsx']"
      ]
     },
     "execution_count": 4,
     "metadata": {},
     "output_type": "execute_result"
    }
   ],
   "source": [
    "import os\n",
    "os.listdir()"
   ]
  },
  {
   "cell_type": "code",
   "execution_count": 5,
   "id": "96550b24",
   "metadata": {},
   "outputs": [],
   "source": [
    "# Define the equation to be fitted\n",
    "def func(t, A, t_1, y_0):\n",
    "    return A * np.exp(-t / t_1) + y_0\n",
    "\n",
    "# Load the data from the excel file\n",
    "data = pd.read_excel('2017earthquake.xlsx')\n",
    "t = data['t'].values\n",
    "y = data['C'].values"
   ]
  },
  {
   "cell_type": "code",
   "execution_count": 6,
   "id": "a723db42",
   "metadata": {},
   "outputs": [
    {
     "name": "stderr",
     "output_type": "stream",
     "text": [
      "C:\\Users\\sjsha\\AppData\\Local\\Temp/ipykernel_12616/2773308090.py:3: RuntimeWarning: overflow encountered in exp\n",
      "  return A * np.exp(-t / t_1) + y_0\n",
      "C:\\Users\\sjsha\\AppData\\Local\\Temp/ipykernel_12616/2773308090.py:3: RuntimeWarning: overflow encountered in multiply\n",
      "  return A * np.exp(-t / t_1) + y_0\n"
     ]
    }
   ],
   "source": [
    "# Define the function to be optimized\n",
    "def fun(params):\n",
    "    return func(t, *params) - y\n",
    "\n",
    "# Set the initial values of the unknown parameters\n",
    "x0 = [-1500, 10, 5000]\n",
    "\n",
    "# Use the Levenberg-Marquardt algorithm to find the optimal values of the parameters\n",
    "res = least_squares(fun, x0, method='lm')"
   ]
  },
  {
   "cell_type": "code",
   "execution_count": 7,
   "id": "35c1b6ae",
   "metadata": {},
   "outputs": [
    {
     "name": "stdout",
     "output_type": "stream",
     "text": [
      "A = 8137.120068609709\n",
      "t_1 = 0.5852206619781206\n",
      "y_0 = 3832.3466885524354\n",
      "RMSE = 1930.5635361194488\n",
      "RMSLE = 0.9173765437954651\n",
      "MAPE = 191.57064166858433 %\n",
      "PB = 7.491177152577951e-09 %\n",
      "MSE = 3727075.56699403\n",
      "R squared = 0.0004961584637599437\n"
     ]
    }
   ],
   "source": [
    "# Print the optimal values of the parameters\n",
    "print('A =', res.x[0])\n",
    "print('t_1 =', res.x[1])\n",
    "print('y_0 =', res.x[2])\n",
    "\n",
    "# Calculate the Root mean square error (RMSE), root mean squared log error (RMSLE),\n",
    "# mean absolute percentage error (MAPE), percentage bias (PB), and mean square error (MSE)\n",
    "y_pred = func(t, *res.x)\n",
    "rmse = np.sqrt(mean_squared_error(y, y_pred))\n",
    "rmsle = np.sqrt(mean_squared_error(np.log(y), np.log(y_pred)))\n",
    "mape = mean_absolute_percentage_error(y, y_pred) * 100\n",
    "pb = (np.sum(y_pred - y) / np.sum(y)) * 100\n",
    "mse = mean_squared_error(y, y_pred)\n",
    "r2 = r2_score(y, y_pred)\n",
    "\n",
    "# Print the evaluation metrics\n",
    "print('RMSE =', rmse)\n",
    "print('RMSLE =', rmsle)\n",
    "print('MAPE =', mape, '%')\n",
    "print('PB =', pb, '%')\n",
    "print('MSE =', mse)\n",
    "print('R squared =', r2)"
   ]
  },
  {
   "cell_type": "code",
   "execution_count": 16,
   "id": "fc1a54e0",
   "metadata": {},
   "outputs": [
    {
     "data": {
      "image/png": "[encoded data removed]",
      "text/plain": [
       "<Figure size 432x288 with 1 Axes>"
      ]
     },
     "metadata": {
      "needs_background": "light"
     },
     "output_type": "display_data"
    }
   ],
   "source": [
    "# Plot the actual and predicted values\n",
    "import matplotlib.pyplot as plt\n",
    "plt.plot(t, y, label='Actual')\n",
    "plt.plot(t, y_pred, label='Predicted')\n",
    "plt.xlabel('t')\n",
    "plt.ylabel('y(t)')\n",
    "plt.legend()\n",
    "plt.show()"
   ]
  },
  {
   "cell_type": "code",
   "execution_count": 7,
   "id": "ec5f1307",
   "metadata": {},
   "outputs": [
    {
     "ename": "TypeError",
     "evalue": "fun() takes 1 positional argument but 3 were given",
     "output_type": "error",
     "traceback": [
      "\u001b[1;31m---------------------------------------------------------------------------\u001b[0m",
      "\u001b[1;31mTypeError\u001b[0m                                 Traceback (most recent call last)",
      "\u001b[1;32m~\\AppData\\Local\\Temp/ipykernel_6384/3930800540.py\u001b[0m in \u001b[0;36m<module>\u001b[1;34m\u001b[0m\n\u001b[0;32m      9\u001b[0m \u001b[0my_above\u001b[0m \u001b[1;33m=\u001b[0m \u001b[0mdata_above\u001b[0m\u001b[1;33m[\u001b[0m\u001b[1;34m'C'\u001b[0m\u001b[1;33m]\u001b[0m\u001b[1;33m.\u001b[0m\u001b[0mvalues\u001b[0m\u001b[1;33m\u001b[0m\u001b[1;33m\u001b[0m\u001b[0m\n\u001b[0;32m     10\u001b[0m \u001b[1;33m\u001b[0m\u001b[0m\n\u001b[1;32m---> 11\u001b[1;33m \u001b[0mres_above\u001b[0m \u001b[1;33m=\u001b[0m \u001b[0mleast_squares\u001b[0m\u001b[1;33m(\u001b[0m\u001b[0mfun\u001b[0m\u001b[1;33m,\u001b[0m \u001b[0mx0\u001b[0m\u001b[1;33m,\u001b[0m \u001b[0margs\u001b[0m\u001b[1;33m=\u001b[0m\u001b[1;33m(\u001b[0m\u001b[0mt_above\u001b[0m\u001b[1;33m,\u001b[0m \u001b[0my_above\u001b[0m\u001b[1;33m)\u001b[0m\u001b[1;33m,\u001b[0m \u001b[0mmethod\u001b[0m\u001b[1;33m=\u001b[0m\u001b[1;34m'lm'\u001b[0m\u001b[1;33m)\u001b[0m\u001b[1;33m\u001b[0m\u001b[1;33m\u001b[0m\u001b[0m\n\u001b[0m\u001b[0;32m     12\u001b[0m \u001b[1;33m\u001b[0m\u001b[0m\n\u001b[0;32m     13\u001b[0m \u001b[1;33m\u001b[0m\u001b[0m\n",
      "\u001b[1;32mD:\\anaconda\\lib\\site-packages\\scipy\\optimize\\_lsq\\least_squares.py\u001b[0m in \u001b[0;36mleast_squares\u001b[1;34m(fun, x0, jac, bounds, method, ftol, xtol, gtol, x_scale, loss, f_scale, diff_step, tr_solver, tr_options, jac_sparsity, max_nfev, verbose, args, kwargs)\u001b[0m\n\u001b[0;32m    818\u001b[0m         \u001b[0mx0\u001b[0m \u001b[1;33m=\u001b[0m \u001b[0mmake_strictly_feasible\u001b[0m\u001b[1;33m(\u001b[0m\u001b[0mx0\u001b[0m\u001b[1;33m,\u001b[0m \u001b[0mlb\u001b[0m\u001b[1;33m,\u001b[0m \u001b[0mub\u001b[0m\u001b[1;33m)\u001b[0m\u001b[1;33m\u001b[0m\u001b[1;33m\u001b[0m\u001b[0m\n\u001b[0;32m    819\u001b[0m \u001b[1;33m\u001b[0m\u001b[0m\n\u001b[1;32m--> 820\u001b[1;33m     \u001b[0mf0\u001b[0m \u001b[1;33m=\u001b[0m \u001b[0mfun_wrapped\u001b[0m\u001b[1;33m(\u001b[0m\u001b[0mx0\u001b[0m\u001b[1;33m)\u001b[0m\u001b[1;33m\u001b[0m\u001b[1;33m\u001b[0m\u001b[0m\n\u001b[0m\u001b[0;32m    821\u001b[0m \u001b[1;33m\u001b[0m\u001b[0m\n\u001b[0;32m    822\u001b[0m     \u001b[1;32mif\u001b[0m \u001b[0mf0\u001b[0m\u001b[1;33m.\u001b[0m\u001b[0mndim\u001b[0m \u001b[1;33m!=\u001b[0m \u001b[1;36m1\u001b[0m\u001b[1;33m:\u001b[0m\u001b[1;33m\u001b[0m\u001b[1;33m\u001b[0m\u001b[0m\n",
      "\u001b[1;32mD:\\anaconda\\lib\\site-packages\\scipy\\optimize\\_lsq\\least_squares.py\u001b[0m in \u001b[0;36mfun_wrapped\u001b[1;34m(x)\u001b[0m\n\u001b[0;32m    813\u001b[0m \u001b[1;33m\u001b[0m\u001b[0m\n\u001b[0;32m    814\u001b[0m     \u001b[1;32mdef\u001b[0m \u001b[0mfun_wrapped\u001b[0m\u001b[1;33m(\u001b[0m\u001b[0mx\u001b[0m\u001b[1;33m)\u001b[0m\u001b[1;33m:\u001b[0m\u001b[1;33m\u001b[0m\u001b[1;33m\u001b[0m\u001b[0m\n\u001b[1;32m--> 815\u001b[1;33m         \u001b[1;32mreturn\u001b[0m \u001b[0mnp\u001b[0m\u001b[1;33m.\u001b[0m\u001b[0matleast_1d\u001b[0m\u001b[1;33m(\u001b[0m\u001b[0mfun\u001b[0m\u001b[1;33m(\u001b[0m\u001b[0mx\u001b[0m\u001b[1;33m,\u001b[0m \u001b[1;33m*\u001b[0m\u001b[0margs\u001b[0m\u001b[1;33m,\u001b[0m \u001b[1;33m**\u001b[0m\u001b[0mkwargs\u001b[0m\u001b[1;33m)\u001b[0m\u001b[1;33m)\u001b[0m\u001b[1;33m\u001b[0m\u001b[1;33m\u001b[0m\u001b[0m\n\u001b[0m\u001b[0;32m    816\u001b[0m \u001b[1;33m\u001b[0m\u001b[0m\n\u001b[0;32m    817\u001b[0m     \u001b[1;32mif\u001b[0m \u001b[0mmethod\u001b[0m \u001b[1;33m==\u001b[0m \u001b[1;34m'trf'\u001b[0m\u001b[1;33m:\u001b[0m\u001b[1;33m\u001b[0m\u001b[1;33m\u001b[0m\u001b[0m\n",
      "\u001b[1;31mTypeError\u001b[0m: fun() takes 1 positional argument but 3 were given"
     ]
    }
   ],
   "source": [
    "# Split the data points above and below the predicted curve\n",
    "y_pred = func(t, *res.x)\n",
    "y_pred_high = np.where(y > y_pred, y, np.nan)\n",
    "y_pred_low = np.where(y < y_pred, y, np.nan)\n",
    "\n",
    "# Build a separate model for the data points above the original fit\n",
    "data_above = data[data['C'] > y_pred]\n",
    "t_above = data_above['t'].values\n",
    "y_above = data_above['C'].values\n",
    "\n",
    "res_above = least_squares(fun, x0, args=(t_above, y_above), method='lm')\n",
    "\n",
    "\n",
    "# Build a separate model for the data points below the original fit\n",
    "data_below = data[data['C'] < y_pred]\n",
    "t_below = data_below['t'].values\n",
    "y_below = data_below['C'].values\n",
    "\n",
    "res_below = least_squares(fun, x0, args=(t_below, y_below), method='lm')\n",
    "\n",
    "# Plot the actual and predicted values\n",
    "import matplotlib.pyplot as plt\n",
    "plt.plot(t, y, label='Actual')\n",
    "plt.plot(t, y_pred, 'b-', label='Original Fit')\n",
    "plt.plot(t_above, func(t_above, *res_above.x), 'g-', label='Fit Above')\n",
    "plt.plot(t_below, func(t_below, *res_below.x), 'r-', label='Fit Below')\n",
    "plt.xlabel('t')\n",
    "plt.ylabel('y(t)')\n",
    "plt.legend()"
   ]
  },
  {
   "cell_type": "markdown",
   "id": "fe983ec1",
   "metadata": {},
   "source": [
    "# Random Forest Regression"
   ]
  },
  {
   "cell_type": "code",
   "execution_count": 1,
   "id": "5bd3eed5",
   "metadata": {},
   "outputs": [],
   "source": [
    "import pandas as pd\n",
    "import numpy as np\n",
    "from sklearn.ensemble import RandomForestRegressor\n",
    "from sklearn.metrics import mean_squared_error, mean_absolute_error, r2_score"
   ]
  },
  {
   "cell_type": "code",
   "execution_count": 2,
   "id": "a5c1ebcc",
   "metadata": {},
   "outputs": [],
   "source": [
    "# Load the data from the Excel file\n",
    "data = pd.read_excel('2017earthquake.xlsx')\n",
    "t = data['t'].values.reshape(-1, 1)\n",
    "y = data['C'].values"
   ]
  },
  {
   "cell_type": "code",
   "execution_count": 3,
   "id": "8acf1ceb",
   "metadata": {},
   "outputs": [],
   "source": [
    "# Define the random forest regression model\n",
    "model = RandomForestRegressor(n_estimators=100, max_depth=10, random_state=42)\n",
    "\n",
    "# Fit the model to the data\n",
    "model.fit(t, y)\n",
    "\n",
    "# Predict the values of y using the trained model\n",
    "y_pred = model.predict(t)\n",
    "\n",
    "# Extract the parameter values from the model\n",
    "# Extract the parameter values from the model\n",
    "y_0 = y.mean()\n",
    "importances = model.feature_importances_\n",
    "t_1 = -1 / importances[0]\n",
    "A = (y[0] - y_0) * np.exp(t[0] / (-1 * t_1))\n"
   ]
  },
  {
   "cell_type": "code",
   "execution_count": 4,
   "id": "243de131",
   "metadata": {},
   "outputs": [
    {
     "name": "stdout",
     "output_type": "stream",
     "text": [
      "A = [8167.38475676]\n",
      "t_1 = -1.0\n",
      "y_0 = 3832.615243243243\n"
     ]
    }
   ],
   "source": [
    "# Print the estimated parameter values\n",
    "print('A =', A)\n",
    "print('t_1 =', t_1)\n",
    "print('y_0 =', y_0)"
   ]
  },
  {
   "cell_type": "code",
   "execution_count": 5,
   "id": "ccdb0911",
   "metadata": {},
   "outputs": [
    {
     "name": "stdout",
     "output_type": "stream",
     "text": [
      "RMSE = 1410.5771918952873\n",
      "RMSLE = 0.6512685587346533\n",
      "MAPE = 90.80865273154348\n",
      "PB = -70.35801379052675\n",
      "MSE = 1989728.014295194\n",
      "R-squared = 0.4664071714799479\n"
     ]
    }
   ],
   "source": [
    "# Compute the evaluation metrics\n",
    "rmse = np.sqrt(mean_squared_error(y, y_pred))\n",
    "rmsle = np.sqrt(mean_squared_error(np.log(y), np.log(y_pred)))\n",
    "mape = np.mean(np.abs((y - y_pred) / y)) * 100\n",
    "pb = np.mean((y - y_pred) / y) * 100\n",
    "mse = mean_squared_error(y, y_pred)\n",
    "r2 = r2_score(y, y_pred)\n",
    "\n",
    "# Print the evaluation metrics\n",
    "print('RMSE =', rmse)\n",
    "print('RMSLE =', rmsle)\n",
    "print('MAPE =', mape)\n",
    "print('PB =', pb)\n",
    "print('MSE =', mse)\n",
    "print('R-squared =', r2)"
   ]
  },
  {
   "cell_type": "code",
   "execution_count": 6,
   "id": "c9ea3f51",
   "metadata": {
    "scrolled": true
   },
   "outputs": [
    {
     "data": {
      "image/png": "[encoded data removed]",
      "text/plain": [
       "<Figure size 432x288 with 1 Axes>"
      ]
     },
     "metadata": {
      "needs_background": "light"
     },
     "output_type": "display_data"
    }
   ],
   "source": [
    "# Plot the actual and predicted values\n",
    "import matplotlib.pyplot as plt\n",
    "plt.plot(t, y, label='Actual')\n",
    "plt.plot(t, y_pred, label='Predicted')\n",
    "plt.xlabel('t')\n",
    "plt.ylabel('C')\n",
    "plt.legend()\n",
    "plt.show()"
   ]
  },
  {
   "cell_type": "markdown",
   "id": "f4297cf3",
   "metadata": {},
   "source": [
    "# Genetic Algorithm "
   ]
  },
  {
   "cell_type": "code",
   "execution_count": 17,
   "id": "164c9567",
   "metadata": {},
   "outputs": [],
   "source": [
    "import numpy as np\n",
    "import pandas as pd\n",
    "import matplotlib.pyplot as plt\n",
    "from scipy.optimize import minimize\n",
    "from sklearn.metrics import mean_squared_error, mean_absolute_error, mean_squared_log_error, r2_score"
   ]
  },
  {
   "cell_type": "code",
   "execution_count": 18,
   "id": "cc922dea",
   "metadata": {},
   "outputs": [],
   "source": [
    "# Define the fitness function to minimize (i.e., objective function)\n",
    "def fitness_func(x, t, y):\n",
    "    A, t_1, y_0 = x\n",
    "    y_pred = A * np.exp((-1/t_1)*t) + y_0\n",
    "    mse = mean_squared_error(y, y_pred)\n",
    "    return mse\n",
    "\n",
    "# Load data from the Excel file\n",
    "df = pd.read_excel('2017earthquake.xlsx', index_col=None)"
   ]
  },
  {
   "cell_type": "code",
   "execution_count": 19,
   "id": "6a1172f5",
   "metadata": {},
   "outputs": [],
   "source": [
    "# Extract the values of t and y(t) from the data\n",
    "t = df['t'].values\n",
    "y = df['C'].values\n",
    "\n",
    "# Define the bounds for the parameters\n",
    "bounds = [(-2000, -1000), (1, 20), (5000, 7000)]\n",
    "\n",
    "# Define the genetic algorithm solver\n",
    "x0 = np.array([-1700, 9, 6000])\n",
    "result = minimize(fitness_func, x0=x0, bounds=bounds, args=(t, y), method='Nelder-Mead')"
   ]
  },
  {
   "cell_type": "code",
   "execution_count": 20,
   "id": "081631ab",
   "metadata": {},
   "outputs": [],
   "source": [
    "# Extract the optimal values of the parameters\n",
    "A_opt, t_1_opt, y_0_opt = result.x\n",
    "\n",
    "# Evaluate the predicted values using the optimal parameters\n",
    "y_pred = A_opt * np.exp((-1/t_1_opt)*t) + y_0_opt\n",
    "\n",
    "# Compute the performance metrics\n",
    "mse = mean_squared_error(y, y_pred)\n",
    "mae = mean_absolute_error(y, y_pred)\n",
    "rmsle = np.sqrt(mean_squared_log_error(y, y_pred))\n",
    "pb = (np.mean(y) - np.mean(y_pred)) / np.mean(y) * 100\n",
    "r2 = r2_score(y, y_pred)\n",
    "rmse = np.sqrt(mse)"
   ]
  },
  {
   "cell_type": "code",
   "execution_count": 21,
   "id": "c3f7661d",
   "metadata": {},
   "outputs": [
    {
     "name": "stdout",
     "output_type": "stream",
     "text": [
      "Optimal parameters: A = -1000.00, t_1 = 20.00, y_0 = 5000.00\n",
      "Root Mean Square Error (RMSE): 2256.42\n",
      "Root Mean Squared Log Error (RMSLE): 1.02\n",
      "Mean Absolute Percentage Error (MAPE): 43.36%\n",
      "Percentage Bias (PB): -30.44%\n",
      "R-squared (R2): -0.37\n"
     ]
    }
   ],
   "source": [
    "# Print the optimal parameters and performance metrics\n",
    "print(f\"Optimal parameters: A = {A_opt:.2f}, t_1 = {t_1_opt:.2f}, y_0 = {y_0_opt:.2f}\")\n",
    "print(f\"Root Mean Square Error (RMSE): {rmse:.2f}\")\n",
    "print(f\"Root Mean Squared Log Error (RMSLE): {rmsle:.2f}\")\n",
    "print(f\"Mean Absolute Percentage Error (MAPE): {mae / np.mean(y) * 100:.2f}%\")\n",
    "print(f\"Percentage Bias (PB): {pb:.2f}%\")\n",
    "print(f\"R-squared (R2): {r2:.2f}\")"
   ]
  },
  {
   "cell_type": "code",
   "execution_count": 22,
   "id": "d406ebb9",
   "metadata": {},
   "outputs": [
    {
     "data": {
      "image/png": "[encoded data removed]",
      "text/plain": [
       "<Figure size 432x288 with 1 Axes>"
      ]
     },
     "metadata": {
      "needs_background": "light"
     },
     "output_type": "display_data"
    }
   ],
   "source": [
    "# Plot the actual and predicted values\n",
    "plt.plot(t, y, label='Actual')\n",
    "plt.plot(t, y_pred, label='Predicted')\n",
    "plt.xlabel('t')\n",
    "plt.ylabel('y(t)')\n",
    "plt.legend()\n",
    "plt.show()"
   ]
  },
  {
   "cell_type": "markdown",
   "id": "ec0b672c",
   "metadata": {},
   "source": [
    "# ANN "
   ]
  },
  {
   "cell_type": "code",
   "execution_count": null,
   "id": "4d692dd5",
   "metadata": {},
   "outputs": [],
   "source": [
    "import numpy as np\n",
    "import pandas as pd\n",
    "import tensorflow as tf\n",
    "from sklearn.preprocessing import StandardScaler\n",
    "from sklearn.metrics import r2_score\n",
    "\n",
    "# Load the data from the Excel file\n",
    "df = pd.read_excel('2017earthquake.xlsx')\n",
    "X = df['t'].values.reshape(-1, 1)  # input variable\n",
    "y = df['C'].values.reshape(-1, 1)  # output variable\n",
    "\n",
    "# preprocess data using StandardScaler\n",
    "scaler = StandardScaler()\n",
    "X_scaled = scaler.fit_transform(X)\n",
    "y_scaled = scaler.fit_transform(y)\n",
    "\n",
    "# Define the neural network architecture\n",
    "model = tf.keras.models.Sequential([\n",
    "    tf.keras.layers.Dense(32, activation='relu', input_dim=1),\n",
    "    tf.keras.layers.Dense(16, activation='relu'),\n",
    "    tf.keras.layers.Dense(8, activation='relu'),\n",
    "    tf.keras.layers.Dense(1)\n",
    "])\n",
    "\n",
    "# Compile the model\n",
    "model.compile(optimizer='adam', loss='mean_squared_error', metrics=['mse'])\n",
    "\n",
    "# Train the model on the entire data\n",
    "history = model.fit(X_scaled, y_scaled, epochs=100, batch_size=1, shuffle=True)\n",
    "\n",
    "# Make predictions on the scaled data\n",
    "y_pred_scaled = model.predict(X_scaled)\n",
    "\n",
    "# Transform the predicted values back to the original scale\n",
    "y_pred = scaler.inverse_transform(y_pred_scaled)\n",
    "\n",
    "# Transform the target variable back to the original scale\n",
    "y_orig = scaler.inverse_transform(y_scaled)\n",
    "\n",
    "# Calculate R-squared value\n",
    "r2 = r2_score(y_orig, y_pred)\n",
    "# Plot the actual and predicted values\n",
    "import matplotlib.pyplot as plt\n",
    "\n",
    "plt.plot(X, y_orig, label='Actual')\n",
    "plt.plot(X, y_pred, label='Predicted')\n",
    "plt.xlabel('t')\n",
    "plt.ylabel('y(t)')\n",
    "plt.legend()\n",
    "plt.show()\n",
    "\n",
    "# Print the model's parameters\n",
    "params = model.get_weights()\n",
    "\n",
    "# A, t_1, y_0 = params[0][0, 0], params[2][0, 0], params[4][0]\n",
    "# print(f'A: {A:.4f}')\n",
    "# print(f't_1: {t_1:.4f}')\n",
    "# print(f'y_0: {y_0[0]:.4f}')\n",
    "\n",
    "# # Print the R-squared value\n",
    "# print(f'R-squared: {r2:.4f}')\n"
   ]
  },
  {
   "cell_type": "code",
   "execution_count": null,
   "id": "ab88cc1d",
   "metadata": {},
   "outputs": [],
   "source": [
    "import numpy as np\n",
    "import pandas as pd\n",
    "import tensorflow as tf\n",
    "from sklearn.model_selection import train_test_split\n",
    "from sklearn.preprocessing import StandardScaler\n",
    "from tensorflow.keras.models import Sequential\n",
    "from tensorflow.keras.layers import Dense\n",
    "from tensorflow.keras.callbacks import EarlyStopping\n",
    "import matplotlib.pyplot as plt\n",
    "from sklearn.metrics import mean_squared_error, r2_score, mean_absolute_percentage_error\n",
    "from math import sqrt\n",
    "\n",
    "# Load data from Excel file\n",
    "df = pd.read_excel('2017earthquake.xlsx')\n",
    "X = df['t'].values.reshape(-1,1)\n",
    "y = df['C'].values.reshape(-1,1)\n",
    "\n",
    "# Split data into training and testing sets\n",
    "X_train, X_test, y_train, y_test = train_test_split(X, y, test_size=0.2, random_state=42)\n",
    "\n",
    "# Standardize the input data\n",
    "scaler_X = StandardScaler()\n",
    "X_train = scaler_X.fit_transform(X_train)\n",
    "X_test = scaler_X.transform(X_test)\n",
    "\n",
    "scaler_y = StandardScaler()\n",
    "y_train = scaler_y.fit_transform(y_train)\n",
    "y_test = scaler_y.transform(y_test)\n",
    "\n",
    "# Build the ANN model\n",
    "model = Sequential()\n",
    "model.add(Dense(units=64, activation='relu', input_dim=1))\n",
    "model.add(Dense(units=32, activation='relu'))\n",
    "model.add(Dense(units=1, activation=None))\n",
    "model.compile(loss='mean_squared_error', optimizer='adam')\n",
    "\n",
    "# Train the model\n",
    "early_stop = EarlyStopping(monitor='val_loss', mode='min', verbose=1, patience=50)\n",
    "model.fit(X_train, y_train, epochs=1000, batch_size=32, validation_data=(X_test, y_test), callbacks=[early_stop])\n",
    "\n",
    "# Predict the values and inverse-transform them\n",
    "y_pred = model.predict(X_test)\n",
    "y_pred = scaler_y.inverse_transform(y_pred)\n",
    "y_test = scaler_y.inverse_transform(y_test)\n",
    "X_test = scaler_X.inverse_transform(X_test)\n",
    "\n",
    "# Sort the data by the input variable before plotting\n",
    "sort_indices = np.argsort(X_test.flatten())\n",
    "X_test_sorted = X_test[sort_indices]\n",
    "y_test_sorted = y_test[sort_indices]\n",
    "y_pred_sorted = y_pred[sort_indices]\n",
    "\n",
    "# Calculate the performance metrics\n",
    "RMSE = sqrt(mean_squared_error(y_test, y_pred))\n",
    "RMSLE = sqrt(mean_squared_error(np.log(y_test+1), np.log(y_pred+1)))\n",
    "MAPE = mean_absolute_percentage_error(y_test, y_pred)\n",
    "PB = ((y_test - y_pred) / y_test).mean() * 100\n",
    "MSE = mean_squared_error(y_test, y_pred)\n",
    "R2 = r2_score(y_test, y_pred)\n",
    "print('RMSE:', RMSE)\n",
    "print('RMSLE:', RMSLE)\n",
    "print('MAPE:', MAPE)\n",
    "print('PB:', PB)\n",
    "print('MSE:', MSE)\n",
    "print('R2:', R2)\n",
    "\n"
   ]
  },
  {
   "cell_type": "code",
   "execution_count": null,
   "id": "7f5168f8",
   "metadata": {
    "scrolled": false
   },
   "outputs": [],
   "source": [
    "# # Plot the actual and predicted values\n",
    "# plt.plot(X_test_sorted, y_test_sorted, 'b')\n",
    "# plt.plot(X_test_sorted, y_pred_sorted, 'r')\n",
    "# plt.xlabel('t')\n",
    "# plt.ylabel('y(t)')\n",
    "# plt.legend(['Actual', 'Predicted'])\n",
    "# plt.show()\n"
   ]
  },
  {
   "cell_type": "code",
   "execution_count": null,
   "id": "25f95006",
   "metadata": {},
   "outputs": [],
   "source": [
    "import numpy as np\n",
    "import pandas as pd\n",
    "import tensorflow as tf\n",
    "from sklearn.model_selection import train_test_split\n",
    "from sklearn.preprocessing import StandardScaler\n",
    "from tensorflow.keras.models import Sequential\n",
    "from tensorflow.keras.layers import Dense\n",
    "from tensorflow.keras.callbacks import EarlyStopping\n",
    "import matplotlib.pyplot as plt\n",
    "from sklearn.metrics import mean_squared_error, r2_score, mean_absolute_percentage_error\n",
    "from math import sqrt\n",
    "\n",
    "# Load data from Excel file\n",
    "df = pd.read_excel('2017earthquake.xlsx')\n",
    "X = df['t'].values.reshape(-1,1)\n",
    "y = df['C'].values.reshape(-1,1)\n",
    "\n",
    "# Split data into training and testing sets\n",
    "X_train, X_test, y_train, y_test = train_test_split(X, y, test_size=0.2, random_state=42)\n",
    "\n",
    "# Standardize the input data\n",
    "scaler_X = StandardScaler()\n",
    "X_train = scaler_X.fit_transform(X_train)\n",
    "X_test = scaler_X.transform(X_test)\n",
    "\n",
    "scaler_y = StandardScaler()\n",
    "y_train = scaler_y.fit_transform(y_train)\n",
    "y_test = scaler_y.transform(y_test)"
   ]
  },
  {
   "cell_type": "code",
   "execution_count": null,
   "id": "add7faf9",
   "metadata": {},
   "outputs": [],
   "source": [
    "# Build the ANN model\n",
    "model = Sequential()\n",
    "model.add(Dense(units=64, activation='relu', input_dim=1))\n",
    "model.add(Dense(units=32, activation='relu'))\n",
    "model.add(Dense(units=1, activation=None))  # Output layer with 3 units for A, t_1, and y_0\n",
    "model.compile(loss='mean_squared_error', optimizer='adam')\n",
    "\n",
    "# Train the model\n",
    "early_stop = EarlyStopping(monitor='val_loss', mode='min', verbose=1, patience=50)\n",
    "model.fit(X_train, y_train, epochs=1000, batch_size=32, validation_data=(X_test, y_test), callbacks=[early_stop])\n",
    "\n",
    "# Predict the values and inverse-transform them\n",
    "params_pred = model.predict(X_test)\n",
    "params_pred = scaler_y.inverse_transform(params_pred)  # Inverse-transform the standardized predicted parameters\n",
    "params_pred = params_pred.flatten()  # Flatten the array to extract A, t_1, and y_0\n",
    "A_pred, t_1_pred, y_0_pred = params_pred[0], params_pred[1], params_pred[2]\n",
    "\n",
    "# Print the predicted parameters\n",
    "print('Predicted parameters:')\n",
    "print('A:', A_pred)\n",
    "print('t_1:', t_1_pred)\n",
    "print('y_0:', y_0_pred)"
   ]
  },
  {
   "cell_type": "code",
   "execution_count": null,
   "id": "dba14085",
   "metadata": {},
   "outputs": [],
   "source": []
  },
  {
   "cell_type": "code",
   "execution_count": null,
   "id": "471c58d7",
   "metadata": {},
   "outputs": [],
   "source": []
  },
  {
   "cell_type": "markdown",
   "id": "3b783e3a",
   "metadata": {},
   "source": [
    "# LSTM"
   ]
  },
  {
   "cell_type": "code",
   "execution_count": 1,
   "id": "50a894f1",
   "metadata": {},
   "outputs": [],
   "source": [
    "import pandas as pd\n",
    "import numpy as np\n",
    "import tensorflow as tf\n",
    "from tensorflow.keras.models import Sequential\n",
    "from tensorflow.keras.layers import LSTM, Dense\n",
    "from sklearn.metrics import mean_squared_error\n",
    "\n",
    "# load data from excel file\n",
    "data = pd.read_excel('2017earthquake.xlsx')\n",
    "t = data['t'].values.reshape(-1, 1)\n",
    "y = data['C'].values.reshape(-1, 1)\n",
    "\n",
    "# normalize data\n",
    "t_mean, t_std = t.mean(), t.std()\n",
    "t = (t - t_mean) / t_std\n",
    "y_mean, y_std = y.mean(), y.std()\n",
    "y = (y - y_mean) / y_std\n",
    "\n",
    "# define window size\n",
    "N = 10\n",
    "\n",
    "# generate input-output pairs\n",
    "X = np.zeros((len(y) - N, N, 1))\n",
    "y_train = np.zeros((len(y) - N, 1))\n",
    "for i in range(N, len(y)):\n",
    "    X[i-N,:,0] = y[i-N:i,0]\n",
    "    y_train[i-N,0] = y[i,0]\n",
    "\n",
    "# build LSTM model\n",
    "model = Sequential()\n",
    "model.add(LSTM(50, activation='relu', input_shape=(N, 1)))\n",
    "model.add(Dense(1))\n",
    "model.compile(optimizer='adam', loss='mse')\n",
    "\n"
   ]
  },
  {
   "cell_type": "code",
   "execution_count": 2,
   "id": "b30de82d",
   "metadata": {},
   "outputs": [
    {
     "data": {
      "text/plain": [
       "<keras.callbacks.History at 0x227510589d0>"
      ]
     },
     "execution_count": 2,
     "metadata": {},
     "output_type": "execute_result"
    }
   ],
   "source": [
    "# train model\n",
    "model.fit(X, y_train, epochs=10, batch_size=16, verbose=0)\n"
   ]
  },
  {
   "cell_type": "code",
   "execution_count": 3,
   "id": "cfc42687",
   "metadata": {
    "scrolled": true
   },
   "outputs": [
    {
     "name": "stdout",
     "output_type": "stream",
     "text": [
      "1156/1156 [==============================] - 6s 5ms/step - loss: 0.1786\n",
      "Loss: 0.17855384945869446\n",
      "1156/1156 [==============================] - 4s 4ms/step\n"
     ]
    }
   ],
   "source": [
    "# evaluate model\n",
    "loss = model.evaluate(X, y_train)\n",
    "print('Loss:', loss)\n",
    "\n",
    "# make predictions\n",
    "y_pred = model.predict(X)\n",
    "\n",
    "# denormalize data\n",
    "y_pred = y_pred * y_std + y_mean\n",
    "y_train = y_train * y_std + y_mean\n",
    "\n"
   ]
  },
  {
   "cell_type": "code",
   "execution_count": null,
   "id": "1db23a5c",
   "metadata": {},
   "outputs": [],
   "source": []
  },
  {
   "cell_type": "code",
   "execution_count": 4,
   "id": "306c7683",
   "metadata": {
    "scrolled": false
   },
   "outputs": [
    {
     "name": "stdout",
     "output_type": "stream",
     "text": [
      "Accuracy: [[1.         0.82362499]\n",
      " [0.82362499 1.        ]]\n"
     ]
    },
    {
     "data": {
      "image/png": "[encoded data removed]",
      "text/plain": [
       "<Figure size 432x288 with 1 Axes>"
      ]
     },
     "metadata": {
      "needs_background": "light"
     },
     "output_type": "display_data"
    },
    {
     "name": "stdout",
     "output_type": "stream",
     "text": [
      "Estimated parameters: A=-147.53, t1=223275865.30, y0=3906.60\n"
     ]
    }
   ],
   "source": [
    "# calculate accuracy and Loss \n",
    "r2 = np.corrcoef(y_train[:,0], y_pred[:,0])**2\n",
    "print('Accuracy:', r2)\n",
    "\n",
    "# plot actual vs predicted values\n",
    "import matplotlib.pyplot as plt\n",
    "plt.plot(y_train, label='Actual')\n",
    "plt.plot(y_pred, label='Predicted')\n",
    "plt.legend()\n",
    "plt.show()\n",
    "\n",
    "# extract estimated parameters\n",
    "A_est = np.min(y_pred)\n",
    "t1_est = np.argmin(y_pred) * t_std + t_mean\n",
    "y0_est = np.mean(y_pred)\n",
    "print('Estimated parameters: A={:.2f}, t1={:.2f}, y0={:.2f}'.format(A_est, t1_est, y0_est))\n"
   ]
  },
  {
   "cell_type": "code",
   "execution_count": 7,
   "id": "e3676055",
   "metadata": {},
   "outputs": [
    {
     "name": "stdout",
     "output_type": "stream",
     "text": [
      "RMSE: 815.9742394018934\n",
      "MAPE: 40.45334257739203\n",
      "PB: 29.821163644030733\n",
      "MSE: 665813.9593674985\n",
      "R^2: 0.8213894019618838\n"
     ]
    }
   ],
   "source": [
    "# calculate accuracy and Loss\n",
    "from sklearn.metrics import mean_squared_error, mean_absolute_error\n",
    "from sklearn.metrics import mean_squared_log_error, r2_score\n",
    "mse = mean_squared_error(y_train, y_pred)\n",
    "rmse = np.sqrt(mse)\n",
    "# rmsle = np.sqrt(mean_squared_log_error(y_train, y_pred))\n",
    "mape = np.mean(np.abs((y_train - y_pred) / y_train)) * 100\n",
    "pb = np.mean((y_pred - y_train) / y_train) * 100\n",
    "r2 = r2_score(y_train, y_pred)\n",
    "\n",
    "print('RMSE:', rmse)\n",
    "# print('RMSLE:', rmsle)\n",
    "print('MAPE:', mape)\n",
    "print('PB:', pb)\n",
    "print('MSE:', mse)\n",
    "print('R^2:', r2)"
   ]
  },
  {
   "cell_type": "markdown",
   "id": "47f8527c",
   "metadata": {},
   "source": [
    "# LSTM early stopping"
   ]
  },
  {
   "cell_type": "code",
   "execution_count": null,
   "id": "867384e9",
   "metadata": {},
   "outputs": [],
   "source": [
    "import pandas as pd\n",
    "import numpy as np\n",
    "import tensorflow as tf\n",
    "from tensorflow.keras.models import Sequential\n",
    "from tensorflow.keras.layers import LSTM, Dense\n",
    "from sklearn.metrics import mean_squared_error\n",
    "from sklearn.metrics import mean_absolute_percentage_error\n",
    "from sklearn.metrics import mean_squared_log_error\n",
    "from sklearn.metrics import r2_score\n",
    "\n",
    "from tensorflow.keras.callbacks import EarlyStopping\n",
    "\n",
    "# load data from excel file\n",
    "data = pd.read_excel('2017earthquake.xlsx')\n",
    "t = data['t'].values.reshape(-1, 1)\n",
    "y = data['C'].values.reshape(-1, 1)\n",
    "\n",
    "# normalize data\n",
    "t_mean, t_std = t.mean(), t.std()\n",
    "t = (t - t_mean) / t_std\n",
    "y_mean, y_std = y.mean(), y.std()\n",
    "y = (y - y_mean) / y_std\n",
    "\n",
    "# define window size\n",
    "N = 10"
   ]
  },
  {
   "cell_type": "code",
   "execution_count": null,
   "id": "7c148426",
   "metadata": {},
   "outputs": [],
   "source": [
    "# generate input-output pairs\n",
    "X = np.zeros((len(y) - N, N, 1))\n",
    "y_train = np.zeros((len(y) - N, 1))\n",
    "for i in range(N, len(y)):\n",
    "    X[i-N,:,0] = y[i-N:i,0]\n",
    "    y_train[i-N,0] = y[i,0]\n",
    "\n",
    "# build LSTM model\n",
    "model = Sequential()\n",
    "model.add(LSTM(50, activation='relu', input_shape=(N, 1)))\n",
    "model.add(Dense(1))\n",
    "model.compile(optimizer='adam', loss='mse')\n",
    "\n",
    "# define early stopping callback\n",
    "early_stop = EarlyStopping(monitor='val_loss', patience=10, mode='min', verbose=1)\n",
    "\n",
    "# train model with early stopping\n",
    "history = model.fit(X, y_train, epochs=1000, batch_size=16, verbose=0, validation_split=0.2, callbacks=[early_stop])\n",
    "\n",
    "# evaluate model\n",
    "loss = model.evaluate(X, y_train)\n",
    "print('Loss:', loss)\n",
    "\n",
    "# make predictions\n",
    "y_pred = model.predict(X)"
   ]
  },
  {
   "cell_type": "code",
   "execution_count": null,
   "id": "c643130e",
   "metadata": {},
   "outputs": [],
   "source": [
    "# denormalize data\n",
    "y_pred = y_pred * y_std + y_mean\n",
    "y_train = y_train * y_std + y_mean\n",
    "\n",
    "# calculate accuracy and Loss \n",
    "r2 = r2_score(y_train[:,0], y_pred[:,0])\n",
    "rmse = np.sqrt(mean_squared_error(y_train[:,0], y_pred[:,0]))\n",
    "mse = mean_squared_error(y_train[:,0], y_pred[:,0])\n",
    "mape = mean_absolute_percentage_error(y_train[:,0], y_pred[:,0]) * 100\n",
    "pb = ((y_train[:,0] - y_pred[:,0]).sum() / y_train[:,0].sum()) * 100\n",
    "rmsle = np.sqrt(mean_squared_log_error(y_train[:,0], y_pred[:,0]))\n",
    "\n",
    "print('R2 score:', r2)\n",
    "print('Root Mean Square Error (RMSE):', rmse)\n",
    "print('Mean Squared Error (MSE):', mse)\n",
    "print('Mean Absolute Percentage Error (MAPE):', mape)\n",
    "print('Percentage Bias (PB):', pb)\n",
    "print('Root Mean Squared Log Error (RMSLE):', rmsle)"
   ]
  },
  {
   "cell_type": "code",
   "execution_count": null,
   "id": "3022dbfd",
   "metadata": {},
   "outputs": [],
   "source": [
    "# plot actual vs predicted values\n",
    "import matplotlib.pyplot as plt\n",
    "plt.plot(y_train, label='Actual')\n",
    "plt.plot(y_pred, label='Predicted')\n",
    "plt.legend()\n",
    "plt.show()\n",
    "\n",
    "# extract estimated parameters\n",
    "A_est = np.min(y_pred)\n",
    "t1_est = np.argmin(y_pred) * t_std + t_mean\n",
    "y0_est = np.mean(y_pred)\n",
    "print('Estimated parameters: A={:.2f}, t1={:.2f}, y0={:.2f}'.format(A_est, t1_est, y0_est))"
   ]
  },
  {
   "cell_type": "markdown",
   "id": "9f27bc53",
   "metadata": {},
   "source": [
    "# gradient boost without train test split"
   ]
  },
  {
   "cell_type": "code",
   "execution_count": 27,
   "id": "826220d5",
   "metadata": {},
   "outputs": [
    {
     "name": "stdout",
     "output_type": "stream",
     "text": [
      "A: 0.0\n",
      "t_1: -2.9333685337557384e-05\n",
      "y_0: 3832.615243243243\n"
     ]
    }
   ],
   "source": [
    "import pandas as pd\n",
    "import numpy as np\n",
    "from sklearn.ensemble import GradientBoostingRegressor\n",
    "\n",
    "# Load the training data from the first Excel file\n",
    "train_df = pd.read_excel('2017earthquake.xlsx', sheet_name='Sheet1')\n",
    "t_train = train_df['t'].values.reshape(-1, 1)\n",
    "y_train = train_df['C'].values\n",
    "\n",
    "# Load the test data from a different Excel file\n",
    "test_df = pd.read_excel('set1.xlsx', sheet_name='Sheet1')\n",
    "t_test = test_df['t'].values.reshape(-1, 1)\n",
    "y_test = test_df['C'].values\n",
    "\n",
    "# Initialize the Gradient Boosting Regressor\n",
    "model = GradientBoostingRegressor()\n",
    "\n",
    "# Fit the model to the training data\n",
    "model.fit(t_train, y_train)\n",
    "\n",
    "# Predict the values for the test data\n",
    "y_pred = model.predict(t_test)\n",
    "\n",
    "# # Print the R-squared score for the model\n",
    "# print('R-squared score:', model.score(t_test, y_test))\n",
    "\n",
    "# Calculate the optimized values of A, t_1, and y_0\n",
    "A = np.exp(-model.init_.predict(t_train)[0])\n",
    "t_1 = -1 / model.estimators_[0][0].tree_.threshold[0]\n",
    "y_0 = y_train.mean()\n",
    "\n",
    "# Print the optimized values of A, t_1, and y_0\n",
    "print('A:', A)\n",
    "print('t_1:', t_1)\n",
    "print('y_0:', y_0)\n"
   ]
  },
  {
   "cell_type": "code",
   "execution_count": 28,
   "id": "a73a8a7b",
   "metadata": {},
   "outputs": [
    {
     "data": {
      "image/png": "[encoded data removed]",
      "text/plain": [
       "<Figure size 432x288 with 1 Axes>"
      ]
     },
     "metadata": {
      "needs_background": "light"
     },
     "output_type": "display_data"
    },
    {
     "name": "stdout",
     "output_type": "stream",
     "text": [
      "Root mean square error (RMSE): 1471.9844331598595\n",
      "Root mean squared log error (RMSLE): 0.7213206817619997\n",
      "Mean absolute percentage error (MAPE): 111.76287028111894\n",
      "Percentage bias (PB): 0.0\n",
      "Mean square error (MSE): 2166738.171464953\n",
      "R-squared score: 0.4189376933591167\n"
     ]
    }
   ],
   "source": [
    "import pandas as pd\n",
    "import numpy as np\n",
    "from sklearn.ensemble import GradientBoostingRegressor\n",
    "from sklearn.metrics import mean_squared_error, mean_absolute_error\n",
    "import matplotlib.pyplot as plt\n",
    "\n",
    "# Load the data from the Excel file\n",
    "df = pd.read_excel('2017earthquake.xlsx', sheet_name='Sheet1')\n",
    "t = df['t'].values.reshape(-1, 1)\n",
    "y = df['C'].values\n",
    "\n",
    "# Initialize the Gradient Boosting Regressor\n",
    "model = GradientBoostingRegressor()\n",
    "\n",
    "# Fit the model to the data\n",
    "model.fit(t, y)\n",
    "\n",
    "# Predict the values for the data\n",
    "y_pred = model.predict(t)\n",
    "\n",
    "# Sort the actual and predicted values by t\n",
    "sort_idx = np.argsort(t.flatten())\n",
    "t_sorted = t[sort_idx]\n",
    "y_sorted = y[sort_idx]\n",
    "y_pred_sorted = y_pred[sort_idx]\n",
    "\n",
    "# Plot the actual and predicted values\n",
    "plt.plot(t_sorted, y_sorted, label='Actual')\n",
    "plt.plot(t_sorted, y_pred_sorted, label='Predicted')\n",
    "plt.legend()\n",
    "plt.xlabel('t')\n",
    "plt.ylabel('C')\n",
    "plt.show()\n",
    "\n",
    "# Calculate the evaluation metrics\n",
    "mse = mean_squared_error(y, y_pred)\n",
    "rmse = np.sqrt(mse)\n",
    "mae = mean_absolute_error(y, y_pred)\n",
    "pb = (y.mean() - y_pred.mean()) / y.mean() * 100\n",
    "mape = np.mean(np.abs((y - y_pred) / y)) * 100\n",
    "rmsle = np.sqrt(np.mean(np.square(np.log(y + 1) - np.log(y_pred + 1))))\n",
    "r2 = model.score(t, y)\n",
    "\n",
    "# Print the evaluation metrics\n",
    "print('Root mean square error (RMSE):', rmse)\n",
    "print('Root mean squared log error (RMSLE):', rmsle)\n",
    "print('Mean absolute percentage error (MAPE):', mape)\n",
    "print('Percentage bias (PB):', pb)\n",
    "print('Mean square error (MSE):', mse)\n",
    "print('R-squared score:', r2)\n"
   ]
  },
  {
   "cell_type": "code",
   "execution_count": null,
   "id": "a90eaf79",
   "metadata": {},
   "outputs": [],
   "source": []
  },
  {
   "cell_type": "code",
   "execution_count": null,
   "id": "68cc0ac3",
   "metadata": {},
   "outputs": [],
   "source": []
  },
  {
   "cell_type": "code",
   "execution_count": null,
   "id": "d0faf08a",
   "metadata": {},
   "outputs": [],
   "source": []
  },
  {
   "cell_type": "code",
   "execution_count": null,
   "id": "7cbc77f0",
   "metadata": {},
   "outputs": [],
   "source": []
  },
  {
   "cell_type": "code",
   "execution_count": null,
   "id": "be07b388",
   "metadata": {},
   "outputs": [],
   "source": []
  },
  {
   "cell_type": "code",
   "execution_count": null,
   "id": "48e659b4",
   "metadata": {},
   "outputs": [],
   "source": []
  },
  {
   "cell_type": "code",
   "execution_count": null,
   "id": "16207a49",
   "metadata": {},
   "outputs": [],
   "source": []
  },
  {
   "cell_type": "code",
   "execution_count": null,
   "id": "c3d0ece4",
   "metadata": {},
   "outputs": [],
   "source": []
  },
  {
   "cell_type": "code",
   "execution_count": null,
   "id": "596bccaf",
   "metadata": {},
   "outputs": [],
   "source": []
  }
 ],
 "metadata": {
  "kernelspec": {
   "display_name": "Python 3 (ipykernel)",
   "language": "python",
   "name": "python3"
  },
  "language_info": {
   "codemirror_mode": {
    "name": "ipython",
    "version": 3
   },
   "file_extension": ".py",
   "mimetype": "text/x-python",
   "name": "python",
   "nbconvert_exporter": "python",
   "pygments_lexer": "ipython3",
   "version": "3.9.7"
  }
 },
 "nbformat": 4,
 "nbformat_minor": 5
}
